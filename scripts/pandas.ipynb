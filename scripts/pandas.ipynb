{
 "cells": [
  {
   "cell_type": "code",
   "execution_count": 52,
   "metadata": {
    "collapsed": false
   },
   "outputs": [],
   "source": [
    "import numpy as np\n",
    "import pandas as pd\n",
    "import matplotlib.pyplot as plt\n",
    "%matplotlib inline"
   ]
  },
  {
   "cell_type": "code",
   "execution_count": 8,
   "metadata": {
    "collapsed": false
   },
   "outputs": [],
   "source": [
    "df = pd.read_csv('../data/validations-sur-le-reseau-ferre-profils-horaires-par-jour-type-1er-sem.csv', sep=';')"
   ]
  },
  {
   "cell_type": "code",
   "execution_count": 63,
   "metadata": {
    "collapsed": false
   },
   "outputs": [
    {
     "data": {
      "text/html": [
       "<div>\n",
       "<style>\n",
       "    .dataframe thead tr:only-child th {\n",
       "        text-align: right;\n",
       "    }\n",
       "\n",
       "    .dataframe thead th {\n",
       "        text-align: left;\n",
       "    }\n",
       "\n",
       "    .dataframe tbody tr th {\n",
       "        vertical-align: top;\n",
       "    }\n",
       "</style>\n",
       "<table border=\"1\" class=\"dataframe\">\n",
       "  <thead>\n",
       "    <tr style=\"text-align: right;\">\n",
       "      <th></th>\n",
       "      <th>CODE_STIF_TRNS</th>\n",
       "      <th>CODE_STIF_RES</th>\n",
       "      <th>CODE_STIF_ARRET</th>\n",
       "      <th>LIBELLE_ARRET</th>\n",
       "      <th>ID_REFA_LDA</th>\n",
       "      <th>CAT_JOUR</th>\n",
       "      <th>TRNC_HORR_60</th>\n",
       "      <th>pourc_validations</th>\n",
       "    </tr>\n",
       "  </thead>\n",
       "  <tbody>\n",
       "    <tr>\n",
       "      <th>0</th>\n",
       "      <td>100</td>\n",
       "      <td>110</td>\n",
       "      <td>729</td>\n",
       "      <td>REPUBLIQUE</td>\n",
       "      <td>71311.0</td>\n",
       "      <td>SAVS</td>\n",
       "      <td>5H-6H</td>\n",
       "      <td>0.61</td>\n",
       "    </tr>\n",
       "    <tr>\n",
       "      <th>1</th>\n",
       "      <td>100</td>\n",
       "      <td>110</td>\n",
       "      <td>734</td>\n",
       "      <td>REUILLY-DIDEROT</td>\n",
       "      <td>71654.0</td>\n",
       "      <td>DIJFP</td>\n",
       "      <td>15H-16H</td>\n",
       "      <td>8.93</td>\n",
       "    </tr>\n",
       "    <tr>\n",
       "      <th>2</th>\n",
       "      <td>100</td>\n",
       "      <td>110</td>\n",
       "      <td>734</td>\n",
       "      <td>REUILLY-DIDEROT</td>\n",
       "      <td>71654.0</td>\n",
       "      <td>DIJFP</td>\n",
       "      <td>2H-3H</td>\n",
       "      <td>0.01</td>\n",
       "    </tr>\n",
       "    <tr>\n",
       "      <th>3</th>\n",
       "      <td>100</td>\n",
       "      <td>110</td>\n",
       "      <td>734</td>\n",
       "      <td>REUILLY-DIDEROT</td>\n",
       "      <td>71654.0</td>\n",
       "      <td>DIJFP</td>\n",
       "      <td>6H-7H</td>\n",
       "      <td>1.15</td>\n",
       "    </tr>\n",
       "    <tr>\n",
       "      <th>4</th>\n",
       "      <td>100</td>\n",
       "      <td>110</td>\n",
       "      <td>734</td>\n",
       "      <td>REUILLY-DIDEROT</td>\n",
       "      <td>71654.0</td>\n",
       "      <td>JOHV</td>\n",
       "      <td>0H-1H</td>\n",
       "      <td>0.61</td>\n",
       "    </tr>\n",
       "  </tbody>\n",
       "</table>\n",
       "</div>"
      ],
      "text/plain": [
       "   CODE_STIF_TRNS CODE_STIF_RES CODE_STIF_ARRET    LIBELLE_ARRET  ID_REFA_LDA  \\\n",
       "0             100           110             729       REPUBLIQUE      71311.0   \n",
       "1             100           110             734  REUILLY-DIDEROT      71654.0   \n",
       "2             100           110             734  REUILLY-DIDEROT      71654.0   \n",
       "3             100           110             734  REUILLY-DIDEROT      71654.0   \n",
       "4             100           110             734  REUILLY-DIDEROT      71654.0   \n",
       "\n",
       "  CAT_JOUR TRNC_HORR_60  pourc_validations  \n",
       "0     SAVS        5H-6H               0.61  \n",
       "1    DIJFP      15H-16H               8.93  \n",
       "2    DIJFP        2H-3H               0.01  \n",
       "3    DIJFP        6H-7H               1.15  \n",
       "4     JOHV        0H-1H               0.61  "
      ]
     },
     "execution_count": 63,
     "metadata": {},
     "output_type": "execute_result"
    }
   ],
   "source": [
    "df.head()"
   ]
  },
  {
   "cell_type": "code",
   "execution_count": 64,
   "metadata": {
    "collapsed": false
   },
   "outputs": [
    {
     "data": {
      "text/html": [
       "<div>\n",
       "<style>\n",
       "    .dataframe thead tr:only-child th {\n",
       "        text-align: right;\n",
       "    }\n",
       "\n",
       "    .dataframe thead th {\n",
       "        text-align: left;\n",
       "    }\n",
       "\n",
       "    .dataframe tbody tr th {\n",
       "        vertical-align: top;\n",
       "    }\n",
       "</style>\n",
       "<table border=\"1\" class=\"dataframe\">\n",
       "  <thead>\n",
       "    <tr style=\"text-align: right;\">\n",
       "      <th></th>\n",
       "      <th>CODE_STIF_TRNS</th>\n",
       "      <th>CODE_STIF_RES</th>\n",
       "      <th>CODE_STIF_ARRET</th>\n",
       "      <th>LIBELLE_ARRET</th>\n",
       "      <th>ID_REFA_LDA</th>\n",
       "      <th>CAT_JOUR</th>\n",
       "      <th>TRNC_HORR_60</th>\n",
       "      <th>pourc_validations</th>\n",
       "    </tr>\n",
       "  </thead>\n",
       "  <tbody>\n",
       "    <tr>\n",
       "      <th>82414</th>\n",
       "      <td>810</td>\n",
       "      <td>802</td>\n",
       "      <td>612</td>\n",
       "      <td>ORSAY-VILLE</td>\n",
       "      <td>62892.0</td>\n",
       "      <td>SAHV</td>\n",
       "      <td>22H-23H</td>\n",
       "      <td>1.95</td>\n",
       "    </tr>\n",
       "    <tr>\n",
       "      <th>82415</th>\n",
       "      <td>810</td>\n",
       "      <td>802</td>\n",
       "      <td>612</td>\n",
       "      <td>ORSAY-VILLE</td>\n",
       "      <td>62892.0</td>\n",
       "      <td>SAHV</td>\n",
       "      <td>23H-0H</td>\n",
       "      <td>1.88</td>\n",
       "    </tr>\n",
       "    <tr>\n",
       "      <th>82416</th>\n",
       "      <td>810</td>\n",
       "      <td>802</td>\n",
       "      <td>612</td>\n",
       "      <td>ORSAY-VILLE</td>\n",
       "      <td>62892.0</td>\n",
       "      <td>SAHV</td>\n",
       "      <td>6H-7H</td>\n",
       "      <td>2.10</td>\n",
       "    </tr>\n",
       "    <tr>\n",
       "      <th>82417</th>\n",
       "      <td>810</td>\n",
       "      <td>802</td>\n",
       "      <td>612</td>\n",
       "      <td>ORSAY-VILLE</td>\n",
       "      <td>62892.0</td>\n",
       "      <td>SAVS</td>\n",
       "      <td>14H-15H</td>\n",
       "      <td>7.03</td>\n",
       "    </tr>\n",
       "    <tr>\n",
       "      <th>82418</th>\n",
       "      <td>810</td>\n",
       "      <td>802</td>\n",
       "      <td>612</td>\n",
       "      <td>ORSAY-VILLE</td>\n",
       "      <td>62892.0</td>\n",
       "      <td>SAVS</td>\n",
       "      <td>21H-22H</td>\n",
       "      <td>2.09</td>\n",
       "    </tr>\n",
       "  </tbody>\n",
       "</table>\n",
       "</div>"
      ],
      "text/plain": [
       "       CODE_STIF_TRNS CODE_STIF_RES CODE_STIF_ARRET LIBELLE_ARRET  \\\n",
       "82414             810           802             612   ORSAY-VILLE   \n",
       "82415             810           802             612   ORSAY-VILLE   \n",
       "82416             810           802             612   ORSAY-VILLE   \n",
       "82417             810           802             612   ORSAY-VILLE   \n",
       "82418             810           802             612   ORSAY-VILLE   \n",
       "\n",
       "       ID_REFA_LDA CAT_JOUR TRNC_HORR_60  pourc_validations  \n",
       "82414      62892.0     SAHV      22H-23H               1.95  \n",
       "82415      62892.0     SAHV       23H-0H               1.88  \n",
       "82416      62892.0     SAHV        6H-7H               2.10  \n",
       "82417      62892.0     SAVS      14H-15H               7.03  \n",
       "82418      62892.0     SAVS      21H-22H               2.09  "
      ]
     },
     "execution_count": 64,
     "metadata": {},
     "output_type": "execute_result"
    }
   ],
   "source": [
    "df.tail()"
   ]
  },
  {
   "cell_type": "code",
   "execution_count": 23,
   "metadata": {
    "collapsed": false
   },
   "outputs": [
    {
     "data": {
      "text/plain": [
       "Index([u'CODE_STIF_TRNS', u'CODE_STIF_RES', u'CODE_STIF_ARRET',\n",
       "       u'LIBELLE_ARRET', u'ID_REFA_LDA', u'CAT_JOUR', u'TRNC_HORR_60',\n",
       "       u'pourc_validations'],\n",
       "      dtype='object')"
      ]
     },
     "execution_count": 23,
     "metadata": {},
     "output_type": "execute_result"
    }
   ],
   "source": [
    "df.columns"
   ]
  },
  {
   "cell_type": "code",
   "execution_count": 65,
   "metadata": {
    "collapsed": false
   },
   "outputs": [
    {
     "data": {
      "text/plain": [
       "0    0.61\n",
       "1    8.93\n",
       "2    0.01\n",
       "3    1.15\n",
       "4    0.61\n",
       "Name: pourc_validations, dtype: float64"
      ]
     },
     "execution_count": 65,
     "metadata": {},
     "output_type": "execute_result"
    }
   ],
   "source": [
    "df['pourc_validations'].head()"
   ]
  },
  {
   "cell_type": "code",
   "execution_count": 33,
   "metadata": {
    "collapsed": false
   },
   "outputs": [
    {
     "data": {
      "text/html": [
       "<div>\n",
       "<style>\n",
       "    .dataframe thead tr:only-child th {\n",
       "        text-align: right;\n",
       "    }\n",
       "\n",
       "    .dataframe thead th {\n",
       "        text-align: left;\n",
       "    }\n",
       "\n",
       "    .dataframe tbody tr th {\n",
       "        vertical-align: top;\n",
       "    }\n",
       "</style>\n",
       "<table border=\"1\" class=\"dataframe\">\n",
       "  <thead>\n",
       "    <tr style=\"text-align: right;\">\n",
       "      <th></th>\n",
       "      <th>CODE_STIF_TRNS</th>\n",
       "      <th>CODE_STIF_RES</th>\n",
       "      <th>CODE_STIF_ARRET</th>\n",
       "      <th>LIBELLE_ARRET</th>\n",
       "      <th>ID_REFA_LDA</th>\n",
       "      <th>CAT_JOUR</th>\n",
       "      <th>TRNC_HORR_60</th>\n",
       "      <th>pourc_validations</th>\n",
       "    </tr>\n",
       "  </thead>\n",
       "  <tbody>\n",
       "    <tr>\n",
       "      <th>4130</th>\n",
       "      <td>800</td>\n",
       "      <td>852</td>\n",
       "      <td>341</td>\n",
       "      <td>GUILLERVAL</td>\n",
       "      <td>59450.0</td>\n",
       "      <td>JOVS</td>\n",
       "      <td>7H-8H</td>\n",
       "      <td>86.80</td>\n",
       "    </tr>\n",
       "    <tr>\n",
       "      <th>5393</th>\n",
       "      <td>800</td>\n",
       "      <td>852</td>\n",
       "      <td>535</td>\n",
       "      <td>MONNERVILLE</td>\n",
       "      <td>59429.0</td>\n",
       "      <td>JOVS</td>\n",
       "      <td>7H-8H</td>\n",
       "      <td>91.35</td>\n",
       "    </tr>\n",
       "    <tr>\n",
       "      <th>4867</th>\n",
       "      <td>800</td>\n",
       "      <td>852</td>\n",
       "      <td>341</td>\n",
       "      <td>GUILLERVAL</td>\n",
       "      <td>59450.0</td>\n",
       "      <td>JOHV</td>\n",
       "      <td>7H-8H</td>\n",
       "      <td>92.45</td>\n",
       "    </tr>\n",
       "    <tr>\n",
       "      <th>5742</th>\n",
       "      <td>800</td>\n",
       "      <td>852</td>\n",
       "      <td>535</td>\n",
       "      <td>MONNERVILLE</td>\n",
       "      <td>59429.0</td>\n",
       "      <td>JOHV</td>\n",
       "      <td>7H-8H</td>\n",
       "      <td>95.51</td>\n",
       "    </tr>\n",
       "    <tr>\n",
       "      <th>80404</th>\n",
       "      <td>800</td>\n",
       "      <td>803</td>\n",
       "      <td>241</td>\n",
       "      <td>DOURDAN-LA-FORET</td>\n",
       "      <td>59843.0</td>\n",
       "      <td>SAVS</td>\n",
       "      <td>16H-17H</td>\n",
       "      <td>100.00</td>\n",
       "    </tr>\n",
       "  </tbody>\n",
       "</table>\n",
       "</div>"
      ],
      "text/plain": [
       "       CODE_STIF_TRNS CODE_STIF_RES CODE_STIF_ARRET     LIBELLE_ARRET  \\\n",
       "4130              800           852             341        GUILLERVAL   \n",
       "5393              800           852             535       MONNERVILLE   \n",
       "4867              800           852             341        GUILLERVAL   \n",
       "5742              800           852             535       MONNERVILLE   \n",
       "80404             800           803             241  DOURDAN-LA-FORET   \n",
       "\n",
       "       ID_REFA_LDA CAT_JOUR TRNC_HORR_60  pourc_validations  \n",
       "4130       59450.0     JOVS        7H-8H              86.80  \n",
       "5393       59429.0     JOVS        7H-8H              91.35  \n",
       "4867       59450.0     JOHV        7H-8H              92.45  \n",
       "5742       59429.0     JOHV        7H-8H              95.51  \n",
       "80404      59843.0     SAVS      16H-17H             100.00  "
      ]
     },
     "execution_count": 33,
     "metadata": {},
     "output_type": "execute_result"
    }
   ],
   "source": [
    "df.sort_values(by='pourc_validations').tail()"
   ]
  },
  {
   "cell_type": "code",
   "execution_count": 15,
   "metadata": {
    "collapsed": false
   },
   "outputs": [
    {
     "data": {
      "text/html": [
       "<div>\n",
       "<style>\n",
       "    .dataframe thead tr:only-child th {\n",
       "        text-align: right;\n",
       "    }\n",
       "\n",
       "    .dataframe thead th {\n",
       "        text-align: left;\n",
       "    }\n",
       "\n",
       "    .dataframe tbody tr th {\n",
       "        vertical-align: top;\n",
       "    }\n",
       "</style>\n",
       "<table border=\"1\" class=\"dataframe\">\n",
       "  <thead>\n",
       "    <tr style=\"text-align: right;\">\n",
       "      <th></th>\n",
       "      <th>CODE_STIF_TRNS</th>\n",
       "      <th>ID_REFA_LDA</th>\n",
       "      <th>pourc_validations</th>\n",
       "    </tr>\n",
       "  </thead>\n",
       "  <tbody>\n",
       "    <tr>\n",
       "      <th>count</th>\n",
       "      <td>82419.000000</td>\n",
       "      <td>81967.000000</td>\n",
       "      <td>82419.000000</td>\n",
       "    </tr>\n",
       "    <tr>\n",
       "      <th>mean</th>\n",
       "      <td>502.835269</td>\n",
       "      <td>72059.742128</td>\n",
       "      <td>4.543808</td>\n",
       "    </tr>\n",
       "    <tr>\n",
       "      <th>std</th>\n",
       "      <td>347.290662</td>\n",
       "      <td>31803.342325</td>\n",
       "      <td>4.220036</td>\n",
       "    </tr>\n",
       "    <tr>\n",
       "      <th>min</th>\n",
       "      <td>100.000000</td>\n",
       "      <td>59403.000000</td>\n",
       "      <td>0.000000</td>\n",
       "    </tr>\n",
       "    <tr>\n",
       "      <th>25%</th>\n",
       "      <td>100.000000</td>\n",
       "      <td>66484.000000</td>\n",
       "      <td>1.330000</td>\n",
       "    </tr>\n",
       "    <tr>\n",
       "      <th>50%</th>\n",
       "      <td>800.000000</td>\n",
       "      <td>71124.000000</td>\n",
       "      <td>3.980000</td>\n",
       "    </tr>\n",
       "    <tr>\n",
       "      <th>75%</th>\n",
       "      <td>800.000000</td>\n",
       "      <td>71777.000000</td>\n",
       "      <td>6.770000</td>\n",
       "    </tr>\n",
       "    <tr>\n",
       "      <th>max</th>\n",
       "      <td>810.000000</td>\n",
       "      <td>415852.000000</td>\n",
       "      <td>100.000000</td>\n",
       "    </tr>\n",
       "  </tbody>\n",
       "</table>\n",
       "</div>"
      ],
      "text/plain": [
       "       CODE_STIF_TRNS    ID_REFA_LDA  pourc_validations\n",
       "count    82419.000000   81967.000000       82419.000000\n",
       "mean       502.835269   72059.742128           4.543808\n",
       "std        347.290662   31803.342325           4.220036\n",
       "min        100.000000   59403.000000           0.000000\n",
       "25%        100.000000   66484.000000           1.330000\n",
       "50%        800.000000   71124.000000           3.980000\n",
       "75%        800.000000   71777.000000           6.770000\n",
       "max        810.000000  415852.000000         100.000000"
      ]
     },
     "execution_count": 15,
     "metadata": {},
     "output_type": "execute_result"
    }
   ],
   "source": [
    "df.describe()"
   ]
  },
  {
   "cell_type": "code",
   "execution_count": 60,
   "metadata": {
    "collapsed": false
   },
   "outputs": [
    {
     "data": {
      "text/html": [
       "<div>\n",
       "<style>\n",
       "    .dataframe thead tr:only-child th {\n",
       "        text-align: right;\n",
       "    }\n",
       "\n",
       "    .dataframe thead th {\n",
       "        text-align: left;\n",
       "    }\n",
       "\n",
       "    .dataframe tbody tr th {\n",
       "        vertical-align: top;\n",
       "    }\n",
       "</style>\n",
       "<table border=\"1\" class=\"dataframe\">\n",
       "  <thead>\n",
       "    <tr style=\"text-align: right;\">\n",
       "      <th></th>\n",
       "      <th>CODE_STIF_TRNS</th>\n",
       "      <th>CODE_STIF_RES</th>\n",
       "      <th>CODE_STIF_ARRET</th>\n",
       "      <th>LIBELLE_ARRET</th>\n",
       "      <th>ID_REFA_LDA</th>\n",
       "      <th>CAT_JOUR</th>\n",
       "      <th>TRNC_HORR_60</th>\n",
       "      <th>pourc_validations</th>\n",
       "    </tr>\n",
       "  </thead>\n",
       "  <tbody>\n",
       "    <tr>\n",
       "      <th>0</th>\n",
       "      <td>100</td>\n",
       "      <td>110</td>\n",
       "      <td>729</td>\n",
       "      <td>REPUBLIQUE</td>\n",
       "      <td>71311.0</td>\n",
       "      <td>SAVS</td>\n",
       "      <td>5H-6H</td>\n",
       "      <td>0.61</td>\n",
       "    </tr>\n",
       "    <tr>\n",
       "      <th>9064</th>\n",
       "      <td>100</td>\n",
       "      <td>110</td>\n",
       "      <td>729</td>\n",
       "      <td>REPUBLIQUE</td>\n",
       "      <td>71311.0</td>\n",
       "      <td>DIJFP</td>\n",
       "      <td>0H-1H</td>\n",
       "      <td>2.07</td>\n",
       "    </tr>\n",
       "    <tr>\n",
       "      <th>9065</th>\n",
       "      <td>100</td>\n",
       "      <td>110</td>\n",
       "      <td>729</td>\n",
       "      <td>REPUBLIQUE</td>\n",
       "      <td>71311.0</td>\n",
       "      <td>DIJFP</td>\n",
       "      <td>2H-3H</td>\n",
       "      <td>0.03</td>\n",
       "    </tr>\n",
       "    <tr>\n",
       "      <th>9066</th>\n",
       "      <td>100</td>\n",
       "      <td>110</td>\n",
       "      <td>729</td>\n",
       "      <td>REPUBLIQUE</td>\n",
       "      <td>71311.0</td>\n",
       "      <td>JOHV</td>\n",
       "      <td>0H-1H</td>\n",
       "      <td>1.89</td>\n",
       "    </tr>\n",
       "    <tr>\n",
       "      <th>9067</th>\n",
       "      <td>100</td>\n",
       "      <td>110</td>\n",
       "      <td>729</td>\n",
       "      <td>REPUBLIQUE</td>\n",
       "      <td>71311.0</td>\n",
       "      <td>JOHV</td>\n",
       "      <td>17H-18H</td>\n",
       "      <td>10.01</td>\n",
       "    </tr>\n",
       "  </tbody>\n",
       "</table>\n",
       "</div>"
      ],
      "text/plain": [
       "      CODE_STIF_TRNS CODE_STIF_RES CODE_STIF_ARRET LIBELLE_ARRET  ID_REFA_LDA  \\\n",
       "0                100           110             729    REPUBLIQUE      71311.0   \n",
       "9064             100           110             729    REPUBLIQUE      71311.0   \n",
       "9065             100           110             729    REPUBLIQUE      71311.0   \n",
       "9066             100           110             729    REPUBLIQUE      71311.0   \n",
       "9067             100           110             729    REPUBLIQUE      71311.0   \n",
       "\n",
       "     CAT_JOUR TRNC_HORR_60  pourc_validations  \n",
       "0        SAVS        5H-6H               0.61  \n",
       "9064    DIJFP        0H-1H               2.07  \n",
       "9065    DIJFP        2H-3H               0.03  \n",
       "9066     JOHV        0H-1H               1.89  \n",
       "9067     JOHV      17H-18H              10.01  "
      ]
     },
     "execution_count": 60,
     "metadata": {},
     "output_type": "execute_result"
    }
   ],
   "source": [
    "repub = df[df.LIBELLE_ARRET == 'REPUBLIQUE']\n",
    "repub.head()"
   ]
  },
  {
   "cell_type": "code",
   "execution_count": 47,
   "metadata": {
    "collapsed": false
   },
   "outputs": [
    {
     "data": {
      "text/html": [
       "<div>\n",
       "<style>\n",
       "    .dataframe thead tr:only-child th {\n",
       "        text-align: right;\n",
       "    }\n",
       "\n",
       "    .dataframe thead th {\n",
       "        text-align: left;\n",
       "    }\n",
       "\n",
       "    .dataframe tbody tr th {\n",
       "        vertical-align: top;\n",
       "    }\n",
       "</style>\n",
       "<table border=\"1\" class=\"dataframe\">\n",
       "  <thead>\n",
       "    <tr style=\"text-align: right;\">\n",
       "      <th></th>\n",
       "      <th>CODE_STIF_TRNS</th>\n",
       "      <th>ID_REFA_LDA</th>\n",
       "      <th>pourc_validations</th>\n",
       "    </tr>\n",
       "    <tr>\n",
       "      <th>LIBELLE_ARRET</th>\n",
       "      <th></th>\n",
       "      <th></th>\n",
       "      <th></th>\n",
       "    </tr>\n",
       "  </thead>\n",
       "  <tbody>\n",
       "    <tr>\n",
       "      <th>ABBESSES</th>\n",
       "      <td>11300</td>\n",
       "      <td>8071816.0</td>\n",
       "      <td>499.99</td>\n",
       "    </tr>\n",
       "    <tr>\n",
       "      <th>ABLON</th>\n",
       "      <td>84000</td>\n",
       "      <td>7303170.0</td>\n",
       "      <td>499.99</td>\n",
       "    </tr>\n",
       "    <tr>\n",
       "      <th>ACHERES-GRAND-CORMIER</th>\n",
       "      <td>83430</td>\n",
       "      <td>6714570.0</td>\n",
       "      <td>499.99</td>\n",
       "    </tr>\n",
       "    <tr>\n",
       "      <th>ACHERES-VILLE</th>\n",
       "      <td>90720</td>\n",
       "      <td>8243648.0</td>\n",
       "      <td>499.99</td>\n",
       "    </tr>\n",
       "    <tr>\n",
       "      <th>AEROPORT CHARLES DE GAULLE 1</th>\n",
       "      <td>93960</td>\n",
       "      <td>8537136.0</td>\n",
       "      <td>500.02</td>\n",
       "    </tr>\n",
       "  </tbody>\n",
       "</table>\n",
       "</div>"
      ],
      "text/plain": [
       "                              CODE_STIF_TRNS  ID_REFA_LDA  pourc_validations\n",
       "LIBELLE_ARRET                                                               \n",
       "ABBESSES                               11300    8071816.0             499.99\n",
       "ABLON                                  84000    7303170.0             499.99\n",
       "ACHERES-GRAND-CORMIER                  83430    6714570.0             499.99\n",
       "ACHERES-VILLE                          90720    8243648.0             499.99\n",
       "AEROPORT CHARLES DE GAULLE 1           93960    8537136.0             500.02"
      ]
     },
     "execution_count": 47,
     "metadata": {},
     "output_type": "execute_result"
    }
   ],
   "source": [
    "df.groupby(['LIBELLE_ARRET']).sum().head() #not meaningful, just for testing"
   ]
  },
  {
   "cell_type": "code",
   "execution_count": 62,
   "metadata": {
    "collapsed": false
   },
   "outputs": [
    {
     "data": {
      "text/plain": [
       "<matplotlib.legend.Legend at 0x115d75b10>"
      ]
     },
     "execution_count": 62,
     "metadata": {},
     "output_type": "execute_result"
    },
    {
     "data": {
      "image/png": "[encoded data removed]",
      "text/plain": [
       "<matplotlib.figure.Figure at 0x115d53e10>"
      ]
     },
     "metadata": {},
     "output_type": "display_data"
    }
   ],
   "source": [
    "plt.figure();\n",
    "df['pourc_validations'].plot(); #not meaningful, just for testing\n",
    "plt.legend(loc='best') "
   ]
  },
  {
   "cell_type": "code",
   "execution_count": null,
   "metadata": {
    "collapsed": true
   },
   "outputs": [],
   "source": []
  }
 ],
 "metadata": {
  "kernelspec": {
   "display_name": "Python 2",
   "language": "python",
   "name": "python2"
  },
  "language_info": {
   "codemirror_mode": {
    "name": "ipython",
    "version": 2
   },
   "file_extension": ".py",
   "mimetype": "text/x-python",
   "name": "python",
   "nbconvert_exporter": "python",
   "pygments_lexer": "ipython2",
   "version": "2.7.13"
  }
 },
 "nbformat": 4,
 "nbformat_minor": 1
}
